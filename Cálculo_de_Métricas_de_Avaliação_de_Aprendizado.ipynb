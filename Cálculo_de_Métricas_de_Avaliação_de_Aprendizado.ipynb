{
  "nbformat": 4,
  "nbformat_minor": 0,
  "metadata": {
    "colab": {
      "provenance": [],
      "authorship_tag": "ABX9TyOYZvs3sLtW1V4lHL6vDrje",
      "include_colab_link": true
    },
    "kernelspec": {
      "name": "python3",
      "display_name": "Python 3"
    },
    "language_info": {
      "name": "python"
    }
  },
  "cells": [
    {
      "cell_type": "markdown",
      "metadata": {
        "id": "view-in-github",
        "colab_type": "text"
      },
      "source": [
        "<a href=\"https://colab.research.google.com/github/brunokobi/Bootcamp_BairesDev/blob/main/C%C3%A1lculo_de_M%C3%A9tricas_de_Avalia%C3%A7%C3%A3o_de_Aprendizado.ipynb\" target=\"_parent\"><img src=\"https://colab.research.google.com/assets/colab-badge.svg\" alt=\"Open In Colab\"/></a>"
      ]
    },
    {
      "cell_type": "markdown",
      "source": [
        "# 📊 Desafio 3: Cálculo de Métricas de Avaliação de Aprendizado\n",
        "\n",
        "## 📝 Descrição do Desafio\n",
        "Neste projeto, você irá calcular as principais métricas utilizadas para avaliar modelos de classificação de dados.\n",
        "Neste projeto, você irá calcular as principais métricas utilizadas para avaliar modelos de classificação de dados, com o objetivo de aplicar essas métricas a um modelo treinado no dataset Iris 🌸. Este é um dataset amplamente utilizado em aprendizado de máquina e contém 150 amostras de flores de íris, distribuídas em 3 classes, com 4 características cada: comprimento e largura da sépala e da pétala.\n",
        " As métricas incluem:  \n",
        "- **Acurácia**  \n",
        "- **Sensibilidade (Recall)**  \n",
        "- **Especificidade**  \n",
        "- **Precisão**  \n",
        "- **F-score**  \n",
        "\n",
        "Para implementar as funções de cálculo, utilize os métodos e fórmulas correspondentes apresentadas na **Tabela 1**.\n",
        "\n",
        "### 🟢 Matriz de Confusão  \n",
        "Os valores de VP (Verdadeiros Positivos), VN (Verdadeiros Negativos), FP (Falsos Positivos) e FN (Falsos Negativos) serão necessários para os cálculos. Você pode escolher arbitrariamente uma matriz de confusão, já que o objetivo principal é compreender o funcionamento das métricas.\n",
        "\n",
        "---\n",
        "\n",
        "## 📋 Tabela 1: Fórmulas das Métricas de Avaliação  \n",
        "| Métrica           | Fórmula                                               | Descrição                             |\n",
        "|--------------------|-------------------------------------------------------|---------------------------------------|\n",
        "| **Acurácia**       | \\((VP + VN) / (VP + VN + FP + FN)\\)                   | Proporção de previsões corretas       |\n",
        "| **Precisão (P)**   | \\(VP / (VP + FP)\\)                                    | Porcentagem de positivos corretos     |\n",
        "| **Sensibilidade (S)** | \\(VP / (VP + FN)\\)                                 | Habilidade de identificar positivos   |\n",
        "| **Especificidade** | \\(VN / (VN + FP)\\)                                    | Habilidade de identificar negativos   |\n",
        "| **F-score**        | \\(2 \\cdot (P \\cdot S) / (P + S)\\)                     | Média harmônica de Precisão e Recall  |\n",
        "\n",
        "> **Legenda:**  \n",
        "> - **VP:** Verdadeiros Positivos  \n",
        "> - **VN:** Verdadeiros Negativos  \n",
        "> - **FP:** Falsos Positivos  \n",
        "> - **FN:** Falsos Negativos  \n",
        "\n",
        "---\n",
        "\n",
        "⚡ **Dica**: Entender e implementar as métricas será essencial para avaliar a eficácia de modelos de classificação e tomar decisões com base nos resultados obtidos.\n",
        "\n",
        "🚀 Mãos à obra!\n"
      ],
      "metadata": {
        "id": "FWMGwoLi0Qcj"
      }
    },
    {
      "cell_type": "code",
      "execution_count": 12,
      "metadata": {
        "id": "Tj_-FMLv_zgI",
        "colab": {
          "base_uri": "https://localhost:8080/",
          "height": 602
        },
        "outputId": "22373a3a-d35f-4580-c7f7-76edd3f197c1"
      },
      "outputs": [
        {
          "output_type": "display_data",
          "data": {
            "text/plain": [
              "<Figure size 640x480 with 2 Axes>"
            ],
            "image/png": "[encoded data removed]"
          },
          "metadata": {}
        },
        {
          "output_type": "execute_result",
          "data": {
            "text/plain": [
              "<pandas.io.formats.style.Styler at 0x7fa93fe735b0>"
            ],
            "text/html": [
              "<style type=\"text/css\">\n",
              "#T_62083 table {\n",
              "  border: 1px solid black;\n",
              "}\n",
              "#T_62083 th {\n",
              "  border: 1px solid black;\n",
              "  background-color: #f2f2f2;\n",
              "  color: black;\n",
              "}\n",
              "#T_62083 td {\n",
              "  border: 1px solid black;\n",
              "}\n",
              "</style>\n",
              "<table id=\"T_62083\" class=\"dataframe\">\n",
              "  <thead>\n",
              "    <tr>\n",
              "      <th id=\"T_62083_level0_col0\" class=\"col_heading level0 col0\" >Classe</th>\n",
              "      <th id=\"T_62083_level0_col1\" class=\"col_heading level0 col1\" >Acurácia</th>\n",
              "      <th id=\"T_62083_level0_col2\" class=\"col_heading level0 col2\" >Precisão</th>\n",
              "      <th id=\"T_62083_level0_col3\" class=\"col_heading level0 col3\" >Recall</th>\n",
              "      <th id=\"T_62083_level0_col4\" class=\"col_heading level0 col4\" >Especificidade</th>\n",
              "      <th id=\"T_62083_level0_col5\" class=\"col_heading level0 col5\" >F-score</th>\n",
              "    </tr>\n",
              "  </thead>\n",
              "  <tbody>\n",
              "    <tr>\n",
              "      <td id=\"T_62083_row0_col0\" class=\"data row0 col0\" >setosa</td>\n",
              "      <td id=\"T_62083_row0_col1\" class=\"data row0 col1\" >1.000000</td>\n",
              "      <td id=\"T_62083_row0_col2\" class=\"data row0 col2\" >1.000000</td>\n",
              "      <td id=\"T_62083_row0_col3\" class=\"data row0 col3\" >1.000000</td>\n",
              "      <td id=\"T_62083_row0_col4\" class=\"data row0 col4\" >1.000000</td>\n",
              "      <td id=\"T_62083_row0_col5\" class=\"data row0 col5\" >1.000000</td>\n",
              "    </tr>\n",
              "    <tr>\n",
              "      <td id=\"T_62083_row1_col0\" class=\"data row1 col0\" >versicolor</td>\n",
              "      <td id=\"T_62083_row1_col1\" class=\"data row1 col1\" >0.888889</td>\n",
              "      <td id=\"T_62083_row1_col2\" class=\"data row1 col2\" >0.777778</td>\n",
              "      <td id=\"T_62083_row1_col3\" class=\"data row1 col3\" >0.933333</td>\n",
              "      <td id=\"T_62083_row1_col4\" class=\"data row1 col4\" >0.866667</td>\n",
              "      <td id=\"T_62083_row1_col5\" class=\"data row1 col5\" >0.848485</td>\n",
              "    </tr>\n",
              "    <tr>\n",
              "      <td id=\"T_62083_row2_col0\" class=\"data row2 col0\" >virginica</td>\n",
              "      <td id=\"T_62083_row2_col1\" class=\"data row2 col1\" >0.888889</td>\n",
              "      <td id=\"T_62083_row2_col2\" class=\"data row2 col2\" >0.916667</td>\n",
              "      <td id=\"T_62083_row2_col3\" class=\"data row2 col3\" >0.733333</td>\n",
              "      <td id=\"T_62083_row2_col4\" class=\"data row2 col4\" >0.966667</td>\n",
              "      <td id=\"T_62083_row2_col5\" class=\"data row2 col5\" >0.814815</td>\n",
              "    </tr>\n",
              "  </tbody>\n",
              "</table>\n"
            ]
          },
          "metadata": {},
          "execution_count": 12
        }
      ],
      "source": [
        "# Importando as bibliotecas necessárias\n",
        "import matplotlib.pyplot as plt\n",
        "import pandas as pd\n",
        "from sklearn.datasets import load_iris\n",
        "from sklearn.model_selection import train_test_split\n",
        "from sklearn.ensemble import RandomForestClassifier\n",
        "from sklearn.metrics import confusion_matrix, ConfusionMatrixDisplay\n",
        "\n",
        "# Carregando o dataset Iris\n",
        "iris = load_iris()\n",
        "X, y = iris.data, iris.target\n",
        "\n",
        "# Dividindo o conjunto de dados em treino e teste\n",
        "X_train, X_test, y_train, y_test = train_test_split(X, y, test_size=0.3, random_state=42, stratify=y)\n",
        "\n",
        "# Treinando um modelo de classificação (Random Forest)\n",
        "model = RandomForestClassifier(random_state=42)\n",
        "model.fit(X_train, y_train)\n",
        "\n",
        "# Fazendo previsões no conjunto de teste\n",
        "y_pred = model.predict(X_test)\n",
        "\n",
        "# Calculando a matriz de confusão\n",
        "conf_matrix = confusion_matrix(y_test, y_pred)\n",
        "\n",
        "# Visualizar a matriz de confusão\n",
        "disp = ConfusionMatrixDisplay(confusion_matrix=conf_matrix, display_labels=iris.target_names)\n",
        "disp.plot(cmap=plt.cm.Blues)\n",
        "plt.title(\"Matriz de Confusão\")\n",
        "plt.show()\n",
        "\n",
        "# Função para calcular as métricas\n",
        "def calculate_metrics(conf_matrix):\n",
        "    metrics = []\n",
        "    for i in range(conf_matrix.shape[0]):\n",
        "        VP = conf_matrix[i, i]\n",
        "        FN = sum(conf_matrix[i, :]) - VP\n",
        "        FP = sum(conf_matrix[:, i]) - VP\n",
        "        VN = conf_matrix.sum() - (VP + FN + FP)\n",
        "\n",
        "        accuracy = (VP + VN) / (VP + VN + FP + FN)\n",
        "        precision = VP / (VP + FP) if (VP + FP) > 0 else 0\n",
        "        recall = VP / (VP + FN) if (VP + FN) > 0 else 0\n",
        "        specificity = VN / (VN + FP) if (VN + FP) > 0 else 0\n",
        "        f_score = 2 * (precision * recall) / (precision + recall) if (precision + recall) > 0 else 0\n",
        "\n",
        "        metrics.append({\n",
        "            \"Classe\": iris.target_names[i],\n",
        "            \"Acurácia\": accuracy,\n",
        "            \"Precisão\": precision,\n",
        "            \"Recall\": recall,\n",
        "            \"Especificidade\": specificity,\n",
        "            \"F-score\": f_score\n",
        "        })\n",
        "    return metrics\n",
        "\n",
        "# Calculando as métricas para cada classe\n",
        "metrics_per_class = calculate_metrics(conf_matrix)\n",
        "\n",
        "# Exibindo as métricas como uma tabela com bordas e cor de fonte preta no cabeçalho\n",
        "df_metrics = pd.DataFrame(metrics_per_class)\n",
        "df_metrics.style.set_table_styles(\n",
        "    [{'selector': 'table', 'props': [('border', '1px solid black')]},\n",
        "     {'selector': 'th', 'props': [('border', '1px solid black'),\n",
        "                                 ('background-color', '#f2f2f2'),\n",
        "                                 ('color', 'black')]},  # Cor preta no texto do cabeçalho\n",
        "     {'selector': 'td', 'props': [('border', '1px solid black')]}]\n",
        ").hide(axis=\"index\")  # Ocultar índice da tabela\n"
      ]
    }
  ]
}