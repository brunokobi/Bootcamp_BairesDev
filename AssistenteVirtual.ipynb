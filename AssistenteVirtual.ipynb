{
  "nbformat": 4,
  "nbformat_minor": 0,
  "metadata": {
    "colab": {
      "provenance": [],
      "authorship_tag": "ABX9TyOlBSPssphY/JeeBqggnfUa",
      "include_colab_link": true
    },
    "kernelspec": {
      "name": "python3",
      "display_name": "Python 3"
    },
    "language_info": {
      "name": "python"
    }
  },
  "cells": [
    {
      "cell_type": "markdown",
      "metadata": {
        "id": "view-in-github",
        "colab_type": "text"
      },
      "source": [
        "<a href=\"https://colab.research.google.com/github/brunokobi/Bootcamp_BairesDev/blob/main/AssistenteVirtual.ipynb\" target=\"_parent\"><img src=\"https://colab.research.google.com/assets/colab-badge.svg\" alt=\"Open In Colab\"/></a>"
      ]
    },
    {
      "cell_type": "markdown",
      "source": [
        "### Descrição da Implementação do Sistema de Assistência Virtual 🤖🎙️\n",
        "\n",
        "O objetivo deste projeto é criar um sistema de assistência virtual utilizando Processamento de Linguagem Natural (PLN) com funcionalidades de conversão de texto em áudio (Text-to-Speech) e de fala para texto (Speech-to-Text), além de permitir a execução de comandos de voz para ações automatizadas, como pesquisa no Wikipedia, acesso ao YouTube e busca de locais (como farmácias próximas).\n",
        "\n",
        "A implementação está dividida em módulos principais, que são descritos a seguir:\n",
        "\n",
        "### 1. **Módulo de Conversão de Texto para Fala (Text-to-Speech) 🗣️🎧**\n",
        "\n",
        "A conversão de texto para fala é realizada utilizando a biblioteca `pyttsx3`. Esta biblioteca permite transformar uma string de texto em uma saída de áudio. O processo é simples e envolve o uso do motor de síntese de voz para falar o texto recebido como argumento.\n",
        "\n",
        "- **Função**: `text_to_speech(text)`\n",
        "  - **Entrada**: Recebe uma string de texto.\n",
        "  - **Saída**: Converte o texto em áudio e o reproduz.\n",
        "  - **Objetivo**: Fornecer respostas audíveis ao usuário com base nas ações realizadas pelo assistente.\n",
        "\n",
        "### 2. **Módulo de Conversão de Fala para Texto (Speech-to-Text) 🎙️➡️📝**\n",
        "\n",
        "A conversão de fala para texto é feita com a ajuda da biblioteca `SpeechRecognition`. Este módulo captura o áudio do microfone, processa a fala e a converte em texto utilizando o serviço de reconhecimento de fala do Google.\n",
        "\n",
        "- **Função**: `speech_to_text()`\n",
        "  - **Entrada**: Nenhuma (captura áudio do microfone).\n",
        "  - **Saída**: Retorna a string de texto reconhecida a partir da fala.\n",
        "  - **Objetivo**: Permitir ao usuário interagir com o assistente virtual por meio de comandos de voz.\n",
        "\n",
        "### 3. **Funções Automatizadas Baseadas em Comandos de Voz 🔊📱**\n",
        "\n",
        "O sistema é projetado para executar funções específicas quando certos comandos de voz são reconhecidos. Aqui estão algumas das funcionalidades implementadas:\n",
        "\n",
        "- **Pesquisar no Wikipedia**: Quando o usuário disser \"pesquisar no Wikipedia\", o sistema buscará o conteúdo relacionado ao comando fornecido e lerá um resumo.\n",
        "  - **Função**: `open_wikipedia(query)`\n",
        "    - **Entrada**: Um comando de pesquisa extraído da fala.\n",
        "    - **Saída**: Realiza uma pesquisa no Wikipedia e retorna um resumo.\n",
        "    - **Objetivo**: Fornecer informações relevantes ao usuário sobre um tópico.\n",
        "\n",
        "- **Abrir o YouTube**: O comando \"abrir o YouTube\" irá abrir o navegador e direcioná-lo para o site do YouTube.\n",
        "  - **Função**: `open_youtube()`\n",
        "    - **Entrada**: Nenhuma.\n",
        "    - **Saída**: O navegador é aberto com o YouTube.\n",
        "    - **Objetivo**: Facilitar o acesso a vídeos diretamente a partir do assistente.\n",
        "\n",
        "- **Localizar a Farmácia Mais Próxima**: Um comando de voz como \"farmácia\" pode ser usado para acionar uma função que busque a farmácia mais próxima.\n",
        "  - **Função**: `find_nearest_pharmacy()`\n",
        "    - **Entrada**: Nenhuma (simula uma busca pela farmácia).\n",
        "    - **Saída**: Fornece informações sobre a farmácia mais próxima (aqui, apenas uma simulação).\n",
        "    - **Objetivo**: Implementar a busca de locais utilizando APIs de geolocalização (para ser expandido no futuro).\n",
        "\n",
        "### 4. **Loop de Espera para Comandos de Voz 🔄🎤**\n",
        "\n",
        "O assistente virtual está sempre ouvindo para novos comandos de voz. O loop principal (`assistant()`) vai capturar comandos contínuos e executar as funções correspondentes, como pesquisar no Wikipedia, abrir o YouTube ou localizar farmácias. O loop é encerrado quando o comando \"sair\" é reconhecido.\n",
        "\n",
        "- **Função**: `assistant()`\n",
        "  - **Entrada**: Nenhuma (inicia o ciclo de escuta).\n",
        "  - **Saída**: Processa e executa os comandos de voz reconhecidos.\n",
        "  - **Objetivo**: Manter o assistente em execução, esperando e respondendo a comandos de voz do usuário.\n",
        "\n",
        "### Expansão e Personalização 🚀\n",
        "\n",
        "Este sistema pode ser expandido de várias maneiras:\n",
        "\n",
        "- **Reconhecimento de comandos mais complexos**: É possível adicionar mais comandos e funções específicas, como abrir aplicativos ou realizar pesquisas na web.\n",
        "- **Integração com APIs de geolocalização**: Para aprimorar a funcionalidade de encontrar farmácias ou outros locais próximos, podemos integrar o sistema com APIs como o Google Maps ou outras fontes de dados geográficos.\n",
        "- **Aprimoramento da precisão do reconhecimento de fala**: Embora o serviço de reconhecimento de fala do Google seja eficaz, ele pode ser configurado para funcionar com diferentes idiomas, ou até mesmo utilizar outros serviços de reconhecimento de fala para melhorar a precisão.\n",
        "\n",
        "### Conclusão 🎯\n",
        "\n",
        "Este sistema básico de assistente virtual usa PLN e reconhecimento de fala para realizar ações simples e fornecer uma interação mais natural com o usuário. Com a adição de mais funcionalidades e personalizações, o assistente pode ser expandido para se tornar mais útil em diferentes contextos, como tarefas diárias, consultas à web ou até mesmo em domínios mais específicos."
      ],
      "metadata": {
        "id": "aK8HpNJAqLT9"
      }
    },
    {
      "cell_type": "markdown",
      "source": [
        "###Colab: Sistema de Assistência Virtual com PLN\n",
        "\n",
        "1 - Instalação de Dependências"
      ],
      "metadata": {
        "id": "JiaykYsCqh6D"
      }
    },
    {
      "cell_type": "code",
      "execution_count": 3,
      "metadata": {
        "colab": {
          "base_uri": "https://localhost:8080/"
        },
        "id": "AwdHORmSmaDp",
        "outputId": "0966a291-07f3-48ab-b544-bb39f0e183dd"
      },
      "outputs": [
        {
          "output_type": "stream",
          "name": "stdout",
          "text": [
            "Collecting pyttsx3\n",
            "  Using cached pyttsx3-2.98-py3-none-any.whl.metadata (3.8 kB)\n",
            "Collecting SpeechRecognition\n",
            "  Using cached SpeechRecognition-3.13.0-py3-none-any.whl.metadata (30 kB)\n",
            "Collecting pyaudio\n",
            "  Using cached PyAudio-0.2.14.tar.gz (47 kB)\n",
            "  Installing build dependencies ... \u001b[?25l\u001b[?25hdone\n",
            "  Getting requirements to build wheel ... \u001b[?25l\u001b[?25hdone\n",
            "  Preparing metadata (pyproject.toml) ... \u001b[?25l\u001b[?25hdone\n",
            "Collecting wikipedia\n",
            "  Using cached wikipedia-1.4.0-py3-none-any.whl\n",
            "Requirement already satisfied: typing-extensions in /usr/local/lib/python3.10/dist-packages (from SpeechRecognition) (4.12.2)\n",
            "Requirement already satisfied: beautifulsoup4 in /usr/local/lib/python3.10/dist-packages (from wikipedia) (4.12.3)\n",
            "Requirement already satisfied: requests<3.0.0,>=2.0.0 in /usr/local/lib/python3.10/dist-packages (from wikipedia) (2.32.3)\n",
            "Requirement already satisfied: charset-normalizer<4,>=2 in /usr/local/lib/python3.10/dist-packages (from requests<3.0.0,>=2.0.0->wikipedia) (3.4.1)\n",
            "Requirement already satisfied: idna<4,>=2.5 in /usr/local/lib/python3.10/dist-packages (from requests<3.0.0,>=2.0.0->wikipedia) (3.10)\n",
            "Requirement already satisfied: urllib3<3,>=1.21.1 in /usr/local/lib/python3.10/dist-packages (from requests<3.0.0,>=2.0.0->wikipedia) (2.3.0)\n",
            "Requirement already satisfied: certifi>=2017.4.17 in /usr/local/lib/python3.10/dist-packages (from requests<3.0.0,>=2.0.0->wikipedia) (2024.12.14)\n",
            "Requirement already satisfied: soupsieve>1.2 in /usr/local/lib/python3.10/dist-packages (from beautifulsoup4->wikipedia) (2.6)\n",
            "Using cached pyttsx3-2.98-py3-none-any.whl (34 kB)\n",
            "Using cached SpeechRecognition-3.13.0-py3-none-any.whl (32.8 MB)\n",
            "Building wheels for collected packages: pyaudio\n",
            "  \u001b[1;31merror\u001b[0m: \u001b[1msubprocess-exited-with-error\u001b[0m\n",
            "  \n",
            "  \u001b[31m×\u001b[0m \u001b[32mBuilding wheel for pyaudio \u001b[0m\u001b[1;32m(\u001b[0m\u001b[32mpyproject.toml\u001b[0m\u001b[1;32m)\u001b[0m did not run successfully.\n",
            "  \u001b[31m│\u001b[0m exit code: \u001b[1;36m1\u001b[0m\n",
            "  \u001b[31m╰─>\u001b[0m See above for output.\n",
            "  \n",
            "  \u001b[1;35mnote\u001b[0m: This error originates from a subprocess, and is likely not a problem with pip.\n",
            "  Building wheel for pyaudio (pyproject.toml) ... \u001b[?25l\u001b[?25herror\n",
            "\u001b[31m  ERROR: Failed building wheel for pyaudio\u001b[0m\u001b[31m\n",
            "\u001b[0mFailed to build pyaudio\n",
            "\u001b[31mERROR: ERROR: Failed to build installable wheels for some pyproject.toml based projects (pyaudio)\u001b[0m\u001b[31m\n",
            "\u001b[0m"
          ]
        }
      ],
      "source": [
        "!pip install pyttsx3 SpeechRecognition pyaudio wikipedia\n"
      ]
    },
    {
      "cell_type": "markdown",
      "source": [
        "2 - Importação de Bibliotecas:"
      ],
      "metadata": {
        "id": "o6LMaBJPuXGv"
      }
    },
    {
      "cell_type": "code",
      "source": [
        "import pyttsx3\n",
        "import speech_recognition as sr\n",
        "import wikipedia\n",
        "import webbrowser\n"
      ],
      "metadata": {
        "colab": {
          "base_uri": "https://localhost:8080/",
          "height": 366
        },
        "id": "myJ9D_lXuh1R",
        "outputId": "2e87a5f5-430c-45f0-ca95-4906c5c8f549"
      },
      "execution_count": 2,
      "outputs": [
        {
          "output_type": "error",
          "ename": "ModuleNotFoundError",
          "evalue": "No module named 'pyttsx3'",
          "traceback": [
            "\u001b[0;31m---------------------------------------------------------------------------\u001b[0m",
            "\u001b[0;31mModuleNotFoundError\u001b[0m                       Traceback (most recent call last)",
            "\u001b[0;32m<ipython-input-2-afd6d08bd4e8>\u001b[0m in \u001b[0;36m<cell line: 1>\u001b[0;34m()\u001b[0m\n\u001b[0;32m----> 1\u001b[0;31m \u001b[0;32mimport\u001b[0m \u001b[0mpyttsx3\u001b[0m\u001b[0;34m\u001b[0m\u001b[0;34m\u001b[0m\u001b[0m\n\u001b[0m\u001b[1;32m      2\u001b[0m \u001b[0;32mimport\u001b[0m \u001b[0mspeech_recognition\u001b[0m \u001b[0;32mas\u001b[0m \u001b[0msr\u001b[0m\u001b[0;34m\u001b[0m\u001b[0;34m\u001b[0m\u001b[0m\n\u001b[1;32m      3\u001b[0m \u001b[0;32mimport\u001b[0m \u001b[0mwikipedia\u001b[0m\u001b[0;34m\u001b[0m\u001b[0;34m\u001b[0m\u001b[0m\n\u001b[1;32m      4\u001b[0m \u001b[0;32mimport\u001b[0m \u001b[0mwebbrowser\u001b[0m\u001b[0;34m\u001b[0m\u001b[0;34m\u001b[0m\u001b[0m\n",
            "\u001b[0;31mModuleNotFoundError\u001b[0m: No module named 'pyttsx3'",
            "",
            "\u001b[0;31m---------------------------------------------------------------------------\u001b[0;32m\nNOTE: If your import is failing due to a missing package, you can\nmanually install dependencies using either !pip or !apt.\n\nTo view examples of installing some common dependencies, click the\n\"Open Examples\" button below.\n\u001b[0;31m---------------------------------------------------------------------------\u001b[0m\n"
          ],
          "errorDetails": {
            "actions": [
              {
                "action": "open_url",
                "actionText": "Open Examples",
                "url": "/notebooks/snippets/importing_libraries.ipynb"
              }
            ]
          }
        }
      ]
    },
    {
      "cell_type": "markdown",
      "source": [
        "3 - Função de Text-to-Speech (Texto para Fala):"
      ],
      "metadata": {
        "id": "_W3RXRgku0fN"
      }
    },
    {
      "cell_type": "code",
      "source": [
        "# Função de texto para fala\n",
        "def text_to_speech(text):\n",
        "    engine = pyttsx3.init()\n",
        "    engine.say(text)\n",
        "    engine.runAndWait()\n"
      ],
      "metadata": {
        "id": "RJjtIDI2u653"
      },
      "execution_count": null,
      "outputs": []
    },
    {
      "cell_type": "markdown",
      "source": [
        "4 - Função de Speech-to-Text (Fala para Texto):"
      ],
      "metadata": {
        "id": "NZaC_ucGu-SA"
      }
    },
    {
      "cell_type": "code",
      "source": [
        "# Função de fala para texto\n",
        "def speech_to_text():\n",
        "    recognizer = sr.Recognizer()\n",
        "    with sr.Microphone() as source:\n",
        "        print(\"Aguardando comando de voz...\")\n",
        "        audio = recognizer.listen(source)\n",
        "\n",
        "    try:\n",
        "        command = recognizer.recognize_google(audio)\n",
        "        print(f\"Você disse: {command}\")\n",
        "        return command.lower()\n",
        "    except sr.UnknownValueError:\n",
        "        print(\"Não consegui entender o que você disse.\")\n",
        "        return None\n",
        "    except sr.RequestError:\n",
        "        print(\"Não foi possível se conectar ao serviço de reconhecimento de fala.\")\n",
        "        return None\n"
      ],
      "metadata": {
        "id": "mDxZGTNmvGuq"
      },
      "execution_count": null,
      "outputs": []
    },
    {
      "cell_type": "markdown",
      "source": [
        "5 - Funções de Ação Baseadas em Comandos de Voz:"
      ],
      "metadata": {
        "id": "lgFEMqrmvJQa"
      }
    },
    {
      "cell_type": "code",
      "source": [
        "# Funções automatizadas acionadas por voz\n",
        "def open_wikipedia(query):\n",
        "    try:\n",
        "        result = wikipedia.summary(query, sentences=1)\n",
        "        print(result)\n",
        "        text_to_speech(result)\n",
        "    except wikipedia.exceptions.DisambiguationError as e:\n",
        "        print(\"Ambiguidades encontradas. Por favor, refine sua busca.\")\n",
        "        text_to_speech(\"Ambiguidades encontradas. Por favor, refine sua busca.\")\n",
        "    except wikipedia.exceptions.HTTPTimeoutError:\n",
        "        print(\"Erro de conexão com o Wikipedia.\")\n",
        "        text_to_speech(\"Erro de conexão com o Wikipedia.\")\n",
        "\n",
        "def open_youtube():\n",
        "    print(\"Abrindo o YouTube...\")\n",
        "    webbrowser.open(\"https://www.youtube.com\")\n",
        "    text_to_speech(\"Abrindo o YouTube.\")\n",
        "\n",
        "def find_nearest_pharmacy():\n",
        "    # Exemplo simplificado para localização (substituir por código real de geolocalização)\n",
        "    print(\"Encontrando a farmácia mais próxima...\")\n",
        "    text_to_speech(\"Aqui está a farmácia mais próxima.\")\n",
        "    # Coloque aqui o código real de localização ou API de geolocalização\n"
      ],
      "metadata": {
        "id": "dHXAIspTvOuk"
      },
      "execution_count": null,
      "outputs": []
    },
    {
      "cell_type": "markdown",
      "source": [
        "6 - Loop para Esperar Comandos de Voz e Executar Funções:"
      ],
      "metadata": {
        "id": "88oNmX11vT8Y"
      }
    },
    {
      "cell_type": "code",
      "source": [
        "def assistant():\n",
        "    text_to_speech(\"Assistente virtual ativado. Como posso te ajudar?\")\n",
        "    while True:\n",
        "        command = speech_to_text()\n",
        "        if command:\n",
        "            if 'wikipedia' in command:\n",
        "                query = command.replace('pesquisar no wikipedia', '')\n",
        "                open_wikipedia(query)\n",
        "            elif 'youtube' in command:\n",
        "                open_youtube()\n",
        "            elif 'farmácia' in command:\n",
        "                find_nearest_pharmacy()\n",
        "            elif 'sair' in command:\n",
        "                text_to_speech(\"Assistente desativado.\")\n",
        "                break\n",
        "            else:\n",
        "                text_to_speech(\"Desculpe, não entendi o comando.\")\n"
      ],
      "metadata": {
        "id": "2pXFJvAVvaZp"
      },
      "execution_count": null,
      "outputs": []
    },
    {
      "cell_type": "markdown",
      "source": [
        "7 - Executando o Sistema de Assistente Virtual:"
      ],
      "metadata": {
        "id": "3Kdq4Uc1vd4P"
      }
    },
    {
      "cell_type": "code",
      "source": [
        "assistant()\n"
      ],
      "metadata": {
        "id": "EmDPzfuUvkcR"
      },
      "execution_count": null,
      "outputs": []
    },
    {
      "cell_type": "markdown",
      "source": [],
      "metadata": {
        "id": "9_kqB1Ryvnxa"
      }
    }
  ]
}